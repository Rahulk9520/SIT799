{
 "cells": [
  {
   "cell_type": "markdown",
   "metadata": {},
   "source": [
    "GitHub: https://github.com/MYUSER/MYPROJECT/"
   ]
  },
  {
   "cell_type": "markdown",
   "metadata": {},
   "source": [
    "Welcome to your assignment this week! \n",
    "\n",
    "\n",
    "# Classification task\n",
    "\n",
    "In this task you are asked to build a simple Feed Forward Neural Network, train it and test it!\n",
    "\n",
    "\n",
    "**After this assignment you will be able to:**\n",
    "\n",
    "- Load a dataset.\n",
    "- Train a Feed Forward Neural Network.\n",
    "- Test a Feed Forward Neural Network.\n",
    "\n",
    "Let's get started! Run the following cell to install all the packages you will need."
   ]
  },
  {
   "cell_type": "code",
   "execution_count": 1,
   "metadata": {},
   "outputs": [],
   "source": [
    "#!pip install numpy\n",
    "#!pip install keras\n",
    "#!pip install tensorflow\n",
    "#!pip install pandas\n",
    "#!pip install matplotlib"
   ]
  },
  {
   "cell_type": "code",
   "execution_count": 2,
   "metadata": {},
   "outputs": [
    {
     "name": "stdout",
     "output_type": "stream",
     "text": [
      "Requirement already satisfied: numpy in c:\\users\\rahul\\anaconda3\\lib\\site-packages (1.19.5)\n",
      "Note: you may need to restart the kernel to use updated packages.\n"
     ]
    }
   ],
   "source": [
    "pip install numpy"
   ]
  },
  {
   "cell_type": "code",
   "execution_count": 3,
   "metadata": {},
   "outputs": [
    {
     "name": "stdout",
     "output_type": "stream",
     "text": [
      "Requirement already satisfied: keras in c:\\users\\rahul\\anaconda3\\lib\\site-packages (2.4.3)\n",
      "Requirement already satisfied: pyyaml in c:\\users\\rahul\\anaconda3\\lib\\site-packages (from keras) (5.4.1)\n",
      "Requirement already satisfied: scipy>=0.14 in c:\\users\\rahul\\anaconda3\\lib\\site-packages (from keras) (1.6.2)\n",
      "Requirement already satisfied: h5py in c:\\users\\rahul\\anaconda3\\lib\\site-packages (from keras) (3.1.0)\n",
      "Requirement already satisfied: numpy>=1.9.1 in c:\\users\\rahul\\anaconda3\\lib\\site-packages (from keras) (1.19.5)\n",
      "Note: you may need to restart the kernel to use updated packages.\n"
     ]
    }
   ],
   "source": [
    "pip install keras"
   ]
  },
  {
   "cell_type": "code",
   "execution_count": 4,
   "metadata": {},
   "outputs": [
    {
     "name": "stdout",
     "output_type": "stream",
     "text": [
      "Requirement already satisfied: tensorflow in c:\\users\\rahul\\anaconda3\\lib\\site-packages (2.5.0)\n",
      "Requirement already satisfied: keras-preprocessing~=1.1.2 in c:\\users\\rahul\\anaconda3\\lib\\site-packages (from tensorflow) (1.1.2)\n",
      "Requirement already satisfied: h5py~=3.1.0 in c:\\users\\rahul\\anaconda3\\lib\\site-packages (from tensorflow) (3.1.0)\n",
      "Requirement already satisfied: wheel~=0.35 in c:\\users\\rahul\\anaconda3\\lib\\site-packages (from tensorflow) (0.36.2)\n",
      "Requirement already satisfied: flatbuffers~=1.12.0 in c:\\users\\rahul\\anaconda3\\lib\\site-packages (from tensorflow) (1.12)\n",
      "Requirement already satisfied: grpcio~=1.34.0 in c:\\users\\rahul\\anaconda3\\lib\\site-packages (from tensorflow) (1.34.1)\n",
      "Requirement already satisfied: opt-einsum~=3.3.0 in c:\\users\\rahul\\anaconda3\\lib\\site-packages (from tensorflow) (3.3.0)\n",
      "Requirement already satisfied: wrapt~=1.12.1 in c:\\users\\rahul\\appdata\\roaming\\python\\python38\\site-packages (from tensorflow) (1.12.1)\n",
      "Requirement already satisfied: numpy~=1.19.2 in c:\\users\\rahul\\anaconda3\\lib\\site-packages (from tensorflow) (1.19.5)\n",
      "Requirement already satisfied: gast==0.4.0 in c:\\users\\rahul\\anaconda3\\lib\\site-packages (from tensorflow) (0.4.0)\n",
      "Requirement already satisfied: termcolor~=1.1.0 in c:\\users\\rahul\\anaconda3\\lib\\site-packages (from tensorflow) (1.1.0)\n",
      "Requirement already satisfied: typing-extensions~=3.7.4 in c:\\users\\rahul\\anaconda3\\lib\\site-packages (from tensorflow) (3.7.4.3)\n",
      "Requirement already satisfied: keras-nightly~=2.5.0.dev in c:\\users\\rahul\\anaconda3\\lib\\site-packages (from tensorflow) (2.5.0.dev2021032900)\n",
      "Requirement already satisfied: google-pasta~=0.2 in c:\\users\\rahul\\anaconda3\\lib\\site-packages (from tensorflow) (0.2.0)\n",
      "Requirement already satisfied: six~=1.15.0 in c:\\users\\rahul\\appdata\\roaming\\python\\python38\\site-packages (from tensorflow) (1.15.0)\n",
      "Requirement already satisfied: astunparse~=1.6.3 in c:\\users\\rahul\\anaconda3\\lib\\site-packages (from tensorflow) (1.6.3)\n",
      "Requirement already satisfied: absl-py~=0.10 in c:\\users\\rahul\\anaconda3\\lib\\site-packages (from tensorflow) (0.13.0)\n",
      "Requirement already satisfied: protobuf>=3.9.2 in c:\\users\\rahul\\anaconda3\\lib\\site-packages (from tensorflow) (3.17.3)\n",
      "Requirement already satisfied: tensorboard~=2.5 in c:\\users\\rahul\\anaconda3\\lib\\site-packages (from tensorflow) (2.5.0)\n",
      "Requirement already satisfied: tensorflow-estimator<2.6.0,>=2.5.0rc0 in c:\\users\\rahul\\anaconda3\\lib\\site-packages (from tensorflow) (2.5.0)\n",
      "Requirement already satisfied: google-auth<2,>=1.6.3 in c:\\users\\rahul\\anaconda3\\lib\\site-packages (from tensorboard~=2.5->tensorflow) (1.33.0)\n",
      "Requirement already satisfied: markdown>=2.6.8 in c:\\users\\rahul\\anaconda3\\lib\\site-packages (from tensorboard~=2.5->tensorflow) (3.3.4)\n",
      "Requirement already satisfied: tensorboard-data-server<0.7.0,>=0.6.0 in c:\\users\\rahul\\anaconda3\\lib\\site-packages (from tensorboard~=2.5->tensorflow) (0.6.1)\n",
      "Requirement already satisfied: setuptools>=41.0.0 in c:\\users\\rahul\\anaconda3\\lib\\site-packages (from tensorboard~=2.5->tensorflow) (52.0.0.post20210125)\n",
      "Requirement already satisfied: tensorboard-plugin-wit>=1.6.0 in c:\\users\\rahul\\anaconda3\\lib\\site-packages (from tensorboard~=2.5->tensorflow) (1.8.0)\n",
      "Requirement already satisfied: google-auth-oauthlib<0.5,>=0.4.1 in c:\\users\\rahul\\anaconda3\\lib\\site-packages (from tensorboard~=2.5->tensorflow) (0.4.4)\n",
      "Requirement already satisfied: werkzeug>=0.11.15 in c:\\users\\rahul\\anaconda3\\lib\\site-packages (from tensorboard~=2.5->tensorflow) (1.0.1)\n",
      "Requirement already satisfied: requests<3,>=2.21.0 in c:\\users\\rahul\\anaconda3\\lib\\site-packages (from tensorboard~=2.5->tensorflow) (2.25.1)\n",
      "Requirement already satisfied: rsa<5,>=3.1.4 in c:\\users\\rahul\\anaconda3\\lib\\site-packages (from google-auth<2,>=1.6.3->tensorboard~=2.5->tensorflow) (4.7.2)\n",
      "Requirement already satisfied: cachetools<5.0,>=2.0.0 in c:\\users\\rahul\\anaconda3\\lib\\site-packages (from google-auth<2,>=1.6.3->tensorboard~=2.5->tensorflow) (4.2.2)\n",
      "Requirement already satisfied: pyasn1-modules>=0.2.1 in c:\\users\\rahul\\anaconda3\\lib\\site-packages (from google-auth<2,>=1.6.3->tensorboard~=2.5->tensorflow) (0.2.8)\n",
      "Requirement already satisfied: requests-oauthlib>=0.7.0 in c:\\users\\rahul\\anaconda3\\lib\\site-packages (from google-auth-oauthlib<0.5,>=0.4.1->tensorboard~=2.5->tensorflow) (1.3.0)\n",
      "Requirement already satisfied: pyasn1<0.5.0,>=0.4.6 in c:\\users\\rahul\\anaconda3\\lib\\site-packages (from pyasn1-modules>=0.2.1->google-auth<2,>=1.6.3->tensorboard~=2.5->tensorflow) (0.4.8)\n",
      "Requirement already satisfied: urllib3<1.27,>=1.21.1 in c:\\users\\rahul\\anaconda3\\lib\\site-packages (from requests<3,>=2.21.0->tensorboard~=2.5->tensorflow) (1.26.4)\n",
      "Requirement already satisfied: chardet<5,>=3.0.2 in c:\\users\\rahul\\anaconda3\\lib\\site-packages (from requests<3,>=2.21.0->tensorboard~=2.5->tensorflow) (4.0.0)\n",
      "Requirement already satisfied: certifi>=2017.4.17 in c:\\users\\rahul\\anaconda3\\lib\\site-packages (from requests<3,>=2.21.0->tensorboard~=2.5->tensorflow) (2020.12.5)\n",
      "Requirement already satisfied: idna<3,>=2.5 in c:\\users\\rahul\\anaconda3\\lib\\site-packages (from requests<3,>=2.21.0->tensorboard~=2.5->tensorflow) (2.10)\n",
      "Requirement already satisfied: oauthlib>=3.0.0 in c:\\users\\rahul\\anaconda3\\lib\\site-packages (from requests-oauthlib>=0.7.0->google-auth-oauthlib<0.5,>=0.4.1->tensorboard~=2.5->tensorflow) (3.1.1)\n",
      "Note: you may need to restart the kernel to use updated packages.\n"
     ]
    }
   ],
   "source": [
    "pip install tensorflow"
   ]
  },
  {
   "cell_type": "code",
   "execution_count": 5,
   "metadata": {},
   "outputs": [
    {
     "name": "stdout",
     "output_type": "stream",
     "text": [
      "Requirement already satisfied: pandas in c:\\users\\rahul\\anaconda3\\lib\\site-packages (1.2.4)\n",
      "Requirement already satisfied: numpy>=1.16.5 in c:\\users\\rahul\\anaconda3\\lib\\site-packages (from pandas) (1.19.5)\n",
      "Requirement already satisfied: pytz>=2017.3 in c:\\users\\rahul\\anaconda3\\lib\\site-packages (from pandas) (2021.1)\n",
      "Requirement already satisfied: python-dateutil>=2.7.3 in c:\\users\\rahul\\appdata\\roaming\\python\\python38\\site-packages (from pandas) (2.8.1)\n",
      "Requirement already satisfied: six>=1.5 in c:\\users\\rahul\\appdata\\roaming\\python\\python38\\site-packages (from python-dateutil>=2.7.3->pandas) (1.15.0)\n",
      "Note: you may need to restart the kernel to use updated packages.\n"
     ]
    }
   ],
   "source": [
    "pip install pandas"
   ]
  },
  {
   "cell_type": "code",
   "execution_count": 6,
   "metadata": {},
   "outputs": [
    {
     "name": "stdout",
     "output_type": "stream",
     "text": [
      "Requirement already satisfied: matplotlib in c:\\users\\rahul\\anaconda3\\lib\\site-packages (3.3.4)\n",
      "Requirement already satisfied: pyparsing!=2.0.4,!=2.1.2,!=2.1.6,>=2.0.3 in c:\\users\\rahul\\anaconda3\\lib\\site-packages (from matplotlib) (2.4.7)\n",
      "Requirement already satisfied: python-dateutil>=2.1 in c:\\users\\rahul\\appdata\\roaming\\python\\python38\\site-packages (from matplotlib) (2.8.1)\n",
      "Requirement already satisfied: cycler>=0.10 in c:\\users\\rahul\\anaconda3\\lib\\site-packages (from matplotlib) (0.10.0)\n",
      "Requirement already satisfied: numpy>=1.15 in c:\\users\\rahul\\anaconda3\\lib\\site-packages (from matplotlib) (1.19.5)\n",
      "Requirement already satisfied: kiwisolver>=1.0.1 in c:\\users\\rahul\\anaconda3\\lib\\site-packages (from matplotlib) (1.3.1)\n",
      "Requirement already satisfied: pillow>=6.2.0 in c:\\users\\rahul\\anaconda3\\lib\\site-packages (from matplotlib) (8.2.0)\n",
      "Requirement already satisfied: six in c:\\users\\rahul\\appdata\\roaming\\python\\python38\\site-packages (from cycler>=0.10->matplotlib) (1.15.0)\n",
      "Note: you may need to restart the kernel to use updated packages.\n"
     ]
    }
   ],
   "source": [
    "pip install matplotlib"
   ]
  },
  {
   "cell_type": "markdown",
   "metadata": {},
   "source": [
    "Run the following cell to load the packages you will need."
   ]
  },
  {
   "cell_type": "code",
   "execution_count": 8,
   "metadata": {},
   "outputs": [],
   "source": [
    "import numpy as np # linear algebra\n",
    "import pandas as pd # data processing, CSV file I/O (e.g. pd.read_csv)\n",
    "from sklearn.model_selection import train_test_split\n",
    "import matplotlib.pyplot as plt\n",
    "from tensorflow.keras.models import Sequential\n",
    "from tensorflow.keras.layers import Dense\n",
    "from sklearn import metrics\n",
    "from sklearn.metrics import classification_report, confusion_matrix\n"
   ]
  },
  {
   "cell_type": "markdown",
   "metadata": {},
   "source": [
    "The dataset we will use consists of 4500 examples with 512 features. A label is given for each example to indicate positive and negative instances.\n",
    "\n",
    "Let's read the data."
   ]
  },
  {
   "cell_type": "code",
   "execution_count": 9,
   "metadata": {},
   "outputs": [],
   "source": [
    "df = pd.read_csv('D:/Deakin University (Applied AI (Professional)/SIT799 (Human Aligned AI)\\Tasks and Assignments/Task-1.3C/1.3C - Classification using FFNN/data.csv')\n",
    "df.set_index('id', inplace=True)"
   ]
  },
  {
   "cell_type": "markdown",
   "metadata": {},
   "source": [
    "Now, let's split the data into training and test sets."
   ]
  },
  {
   "cell_type": "code",
   "execution_count": 10,
   "metadata": {},
   "outputs": [],
   "source": [
    "X_train, X_test, y_train, y_test = train_test_split(\n",
    "    df.index.values,\n",
    "    df.label.values,\n",
    "    test_size=0.15,\n",
    "    random_state=17,\n",
    "    stratify=df.label.values\n",
    ")\n",
    "df['data_type'] = ['note_set']*df.shape[0]\n",
    "df.loc[X_train, 'data_type'] = 'train'\n",
    "df.loc[X_test, 'data_type'] = 'test'\n",
    "\n",
    "## The data to use:\n",
    "\n",
    "X_train = df[df['data_type']=='train'].iloc[:,:512].values\n",
    "X_test = df[df['data_type']=='test'].iloc[:,:512].values\n",
    "y_train = df[df['data_type']=='train'].iloc[:,512:513].values\n",
    "y_test = df[df['data_type']=='test'].iloc[:,512:513].values"
   ]
  },
  {
   "cell_type": "markdown",
   "metadata": {},
   "source": [
    "# Task 1\n",
    "\n",
    "Build a Feed Forward Neural Network to address this classification task using the Keras framework."
   ]
  },
  {
   "cell_type": "code",
   "execution_count": 11,
   "metadata": {},
   "outputs": [],
   "source": [
    "# START YOUR CODE HERE\n",
    "model = Sequential()\n",
    "model.add(Dense(12, input_dim=512, activation='relu'))\n",
    "model.add(Dense(8, activation='relu'))\n",
    "model.add(Dense(1, activation='sigmoid'))\n"
   ]
  },
  {
   "cell_type": "code",
   "execution_count": 12,
   "metadata": {},
   "outputs": [],
   "source": [
    "model.compile(loss='binary_crossentropy', optimizer='adam', metrics=['accuracy'])"
   ]
  },
  {
   "cell_type": "markdown",
   "metadata": {},
   "source": [
    "# Training\n",
    "\n",
    "Now, let's start our training."
   ]
  },
  {
   "cell_type": "code",
   "execution_count": 13,
   "metadata": {},
   "outputs": [
    {
     "name": "stdout",
     "output_type": "stream",
     "text": [
      "Epoch 1/200\n",
      "60/60 [==============================] - 0s 997us/step - loss: 0.5613 - accuracy: 0.7516\n",
      "Epoch 2/200\n",
      "60/60 [==============================] - 0s 1ms/step - loss: 0.2791 - accuracy: 0.9263\n",
      "Epoch 3/200\n",
      "60/60 [==============================] - 0s 1ms/step - loss: 0.1290 - accuracy: 0.9712\n",
      "Epoch 4/200\n",
      "60/60 [==============================] - 0s 980us/step - loss: 0.0593 - accuracy: 0.9885\n",
      "Epoch 5/200\n",
      "60/60 [==============================] - 0s 1ms/step - loss: 0.0295 - accuracy: 0.9963\n",
      "Epoch 6/200\n",
      "60/60 [==============================] - 0s 1ms/step - loss: 0.0165 - accuracy: 0.9990\n",
      "Epoch 7/200\n",
      "60/60 [==============================] - 0s 1ms/step - loss: 0.0098 - accuracy: 0.9995\n",
      "Epoch 8/200\n",
      "60/60 [==============================] - 0s 964us/step - loss: 0.0065 - accuracy: 0.9997\n",
      "Epoch 9/200\n",
      "60/60 [==============================] - 0s 1ms/step - loss: 0.0046 - accuracy: 0.9997\n",
      "Epoch 10/200\n",
      "60/60 [==============================] - 0s 1ms/step - loss: 0.0034 - accuracy: 0.9997\n",
      "Epoch 11/200\n",
      "60/60 [==============================] - 0s 1ms/step - loss: 0.0026 - accuracy: 1.0000\n",
      "Epoch 12/200\n",
      "60/60 [==============================] - 0s 1ms/step - loss: 0.0021 - accuracy: 1.0000\n",
      "Epoch 13/200\n",
      "60/60 [==============================] - 0s 1ms/step - loss: 0.0017 - accuracy: 1.0000\n",
      "Epoch 14/200\n",
      "60/60 [==============================] - 0s 1ms/step - loss: 0.0015 - accuracy: 1.0000\n",
      "Epoch 15/200\n",
      "60/60 [==============================] - 0s 1ms/step - loss: 0.0012 - accuracy: 1.0000\n",
      "Epoch 16/200\n",
      "60/60 [==============================] - 0s 1ms/step - loss: 0.0011 - accuracy: 1.0000\n",
      "Epoch 17/200\n",
      "60/60 [==============================] - 0s 1ms/step - loss: 9.3910e-04 - accuracy: 1.0000\n",
      "Epoch 18/200\n",
      "60/60 [==============================] - 0s 1ms/step - loss: 8.2570e-04 - accuracy: 1.0000\n",
      "Epoch 19/200\n",
      "60/60 [==============================] - 0s 1ms/step - loss: 7.3400e-04 - accuracy: 1.0000\n",
      "Epoch 20/200\n",
      "60/60 [==============================] - 0s 1ms/step - loss: 6.5751e-04 - accuracy: 1.0000\n",
      "Epoch 21/200\n",
      "60/60 [==============================] - 0s 997us/step - loss: 5.9616e-04 - accuracy: 1.0000\n",
      "Epoch 22/200\n",
      "60/60 [==============================] - 0s 1ms/step - loss: 5.4041e-04 - accuracy: 1.0000\n",
      "Epoch 23/200\n",
      "60/60 [==============================] - 0s 1ms/step - loss: 4.9046e-04 - accuracy: 1.0000\n",
      "Epoch 24/200\n",
      "60/60 [==============================] - 0s 1ms/step - loss: 4.4216e-04 - accuracy: 1.0000\n",
      "Epoch 25/200\n",
      "60/60 [==============================] - 0s 1ms/step - loss: 4.0986e-04 - accuracy: 1.0000\n",
      "Epoch 26/200\n",
      "60/60 [==============================] - 0s 997us/step - loss: 3.7986e-04 - accuracy: 1.0000\n",
      "Epoch 27/200\n",
      "60/60 [==============================] - 0s 1ms/step - loss: 3.5380e-04 - accuracy: 1.0000\n",
      "Epoch 28/200\n",
      "60/60 [==============================] - 0s 1ms/step - loss: 3.3096e-04 - accuracy: 1.0000\n",
      "Epoch 29/200\n",
      "60/60 [==============================] - 0s 1ms/step - loss: 3.1059e-04 - accuracy: 1.0000\n",
      "Epoch 30/200\n",
      "60/60 [==============================] - 0s 980us/step - loss: 2.9221e-04 - accuracy: 1.0000\n",
      "Epoch 31/200\n",
      "60/60 [==============================] - 0s 997us/step - loss: 2.7586e-04 - accuracy: 1.0000\n",
      "Epoch 32/200\n",
      "60/60 [==============================] - 0s 980us/step - loss: 2.6104e-04 - accuracy: 1.0000\n",
      "Epoch 33/200\n",
      "60/60 [==============================] - 0s 997us/step - loss: 2.4783e-04 - accuracy: 1.0000\n",
      "Epoch 34/200\n",
      "60/60 [==============================] - 0s 1ms/step - loss: 2.3565e-04 - accuracy: 1.0000\n",
      "Epoch 35/200\n",
      "60/60 [==============================] - 0s 1ms/step - loss: 2.2483e-04 - accuracy: 1.0000\n",
      "Epoch 36/200\n",
      "60/60 [==============================] - 0s 1ms/step - loss: 2.1448e-04 - accuracy: 1.0000\n",
      "Epoch 37/200\n",
      "60/60 [==============================] - 0s 947us/step - loss: 2.0525e-04 - accuracy: 1.0000\n",
      "Epoch 38/200\n",
      "60/60 [==============================] - 0s 1ms/step - loss: 1.9667e-04 - accuracy: 1.0000\n",
      "Epoch 39/200\n",
      "60/60 [==============================] - 0s 964us/step - loss: 1.8884e-04 - accuracy: 1.0000\n",
      "Epoch 40/200\n",
      "60/60 [==============================] - 0s 1ms/step - loss: 1.8163e-04 - accuracy: 1.0000\n",
      "Epoch 41/200\n",
      "60/60 [==============================] - 0s 1ms/step - loss: 1.7467e-04 - accuracy: 1.0000\n",
      "Epoch 42/200\n",
      "60/60 [==============================] - 0s 997us/step - loss: 1.6835e-04 - accuracy: 1.0000\n",
      "Epoch 43/200\n",
      "60/60 [==============================] - 0s 1ms/step - loss: 1.6249e-04 - accuracy: 1.0000\n",
      "Epoch 44/200\n",
      "60/60 [==============================] - 0s 980us/step - loss: 1.5699e-04 - accuracy: 1.0000\n",
      "Epoch 45/200\n",
      "60/60 [==============================] - 0s 997us/step - loss: 1.5191e-04 - accuracy: 1.0000\n",
      "Epoch 46/200\n",
      "60/60 [==============================] - 0s 1ms/step - loss: 1.4698e-04 - accuracy: 1.0000\n",
      "Epoch 47/200\n",
      "60/60 [==============================] - 0s 964us/step - loss: 1.4243e-04 - accuracy: 1.0000\n",
      "Epoch 48/200\n",
      "60/60 [==============================] - 0s 1ms/step - loss: 1.3852e-04 - accuracy: 1.0000\n",
      "Epoch 49/200\n",
      "60/60 [==============================] - 0s 1ms/step - loss: 1.3410e-04 - accuracy: 1.0000\n",
      "Epoch 50/200\n",
      "60/60 [==============================] - 0s 1ms/step - loss: 1.3026e-04 - accuracy: 1.0000\n",
      "Epoch 51/200\n",
      "60/60 [==============================] - 0s 1ms/step - loss: 1.2655e-04 - accuracy: 1.0000\n",
      "Epoch 52/200\n",
      "60/60 [==============================] - 0s 1ms/step - loss: 1.2316e-04 - accuracy: 1.0000\n",
      "Epoch 53/200\n",
      "60/60 [==============================] - 0s 980us/step - loss: 1.1978e-04 - accuracy: 1.0000\n",
      "Epoch 54/200\n",
      "60/60 [==============================] - 0s 1ms/step - loss: 1.1661e-04 - accuracy: 1.0000\n",
      "Epoch 55/200\n",
      "60/60 [==============================] - 0s 1ms/step - loss: 1.1433e-04 - accuracy: 1.0000\n",
      "Epoch 56/200\n",
      "60/60 [==============================] - 0s 947us/step - loss: 1.1134e-04 - accuracy: 1.0000\n",
      "Epoch 57/200\n",
      "60/60 [==============================] - 0s 1ms/step - loss: 1.0848e-04 - accuracy: 1.0000\n",
      "Epoch 58/200\n",
      "60/60 [==============================] - 0s 1ms/step - loss: 1.0573e-04 - accuracy: 1.0000\n",
      "Epoch 59/200\n",
      "60/60 [==============================] - 0s 1ms/step - loss: 1.0311e-04 - accuracy: 1.0000\n",
      "Epoch 60/200\n",
      "60/60 [==============================] - 0s 997us/step - loss: 1.0056e-04 - accuracy: 1.0000\n",
      "Epoch 61/200\n",
      "60/60 [==============================] - 0s 1ms/step - loss: 9.8123e-05 - accuracy: 1.0000\n",
      "Epoch 62/200\n",
      "60/60 [==============================] - 0s 1ms/step - loss: 9.5771e-05 - accuracy: 1.0000\n",
      "Epoch 63/200\n",
      "60/60 [==============================] - 0s 1ms/step - loss: 9.3492e-05 - accuracy: 1.0000\n",
      "Epoch 64/200\n",
      "60/60 [==============================] - 0s 1ms/step - loss: 9.1279e-05 - accuracy: 1.0000\n",
      "Epoch 65/200\n",
      "60/60 [==============================] - 0s 1ms/step - loss: 8.9146e-05 - accuracy: 1.0000\n",
      "Epoch 66/200\n",
      "60/60 [==============================] - 0s 1ms/step - loss: 8.7048e-05 - accuracy: 1.0000\n",
      "Epoch 67/200\n",
      "60/60 [==============================] - 0s 1ms/step - loss: 8.5020e-05 - accuracy: 1.0000\n",
      "Epoch 68/200\n",
      "60/60 [==============================] - 0s 997us/step - loss: 8.3189e-05 - accuracy: 1.0000\n",
      "Epoch 69/200\n",
      "60/60 [==============================] - 0s 1ms/step - loss: 8.1132e-05 - accuracy: 1.0000\n",
      "Epoch 70/200\n",
      "60/60 [==============================] - 0s 1ms/step - loss: 7.9272e-05 - accuracy: 1.0000\n",
      "Epoch 71/200\n",
      "60/60 [==============================] - 0s 963us/step - loss: 7.7701e-05 - accuracy: 1.0000\n",
      "Epoch 72/200\n",
      "60/60 [==============================] - 0s 1ms/step - loss: 7.5419e-05 - accuracy: 1.0000\n",
      "Epoch 73/200\n",
      "60/60 [==============================] - 0s 997us/step - loss: 7.3720e-05 - accuracy: 1.0000\n",
      "Epoch 74/200\n",
      "60/60 [==============================] - 0s 1ms/step - loss: 7.2255e-05 - accuracy: 1.0000\n",
      "Epoch 75/200\n",
      "60/60 [==============================] - 0s 1ms/step - loss: 7.0617e-05 - accuracy: 1.0000\n",
      "Epoch 76/200\n",
      "60/60 [==============================] - 0s 1ms/step - loss: 6.8999e-05 - accuracy: 1.0000\n",
      "Epoch 77/200\n",
      "60/60 [==============================] - 0s 1ms/step - loss: 6.7430e-05 - accuracy: 1.0000\n",
      "Epoch 78/200\n",
      "60/60 [==============================] - 0s 1ms/step - loss: 6.5876e-05 - accuracy: 1.0000\n",
      "Epoch 79/200\n",
      "60/60 [==============================] - 0s 1ms/step - loss: 6.4384e-05 - accuracy: 1.0000\n",
      "Epoch 80/200\n",
      "60/60 [==============================] - 0s 1ms/step - loss: 6.2925e-05 - accuracy: 1.0000\n",
      "Epoch 81/200\n",
      "60/60 [==============================] - 0s 1ms/step - loss: 6.1452e-05 - accuracy: 1.0000\n",
      "Epoch 82/200\n",
      "60/60 [==============================] - 0s 1ms/step - loss: 6.0088e-05 - accuracy: 1.0000\n",
      "Epoch 83/200\n",
      "60/60 [==============================] - 0s 997us/step - loss: 5.8661e-05 - accuracy: 1.0000\n",
      "Epoch 84/200\n",
      "60/60 [==============================] - 0s 997us/step - loss: 5.7385e-05 - accuracy: 1.0000\n",
      "Epoch 85/200\n",
      "60/60 [==============================] - 0s 997us/step - loss: 5.5977e-05 - accuracy: 1.0000\n",
      "Epoch 86/200\n",
      "60/60 [==============================] - 0s 964us/step - loss: 5.4682e-05 - accuracy: 1.0000\n",
      "Epoch 87/200\n",
      "60/60 [==============================] - 0s 1ms/step - loss: 5.3674e-05 - accuracy: 1.0000\n",
      "Epoch 88/200\n",
      "60/60 [==============================] - 0s 1ms/step - loss: 5.2557e-05 - accuracy: 1.0000\n",
      "Epoch 89/200\n",
      "60/60 [==============================] - 0s 997us/step - loss: 5.1296e-05 - accuracy: 1.0000\n",
      "Epoch 90/200\n",
      "60/60 [==============================] - 0s 1ms/step - loss: 5.0061e-05 - accuracy: 1.0000\n",
      "Epoch 91/200\n",
      "60/60 [==============================] - 0s 1ms/step - loss: 4.8848e-05 - accuracy: 1.0000\n",
      "Epoch 92/200\n",
      "60/60 [==============================] - 0s 998us/step - loss: 4.7666e-05 - accuracy: 1.0000\n",
      "Epoch 93/200\n",
      "60/60 [==============================] - 0s 980us/step - loss: 4.6501e-05 - accuracy: 1.0000\n",
      "Epoch 94/200\n",
      "60/60 [==============================] - 0s 1ms/step - loss: 4.5365e-05 - accuracy: 1.0000\n",
      "Epoch 95/200\n",
      "60/60 [==============================] - 0s 1ms/step - loss: 4.4346e-05 - accuracy: 1.0000\n",
      "Epoch 96/200\n",
      "60/60 [==============================] - 0s 1ms/step - loss: 4.3173e-05 - accuracy: 1.0000\n",
      "Epoch 97/200\n",
      "60/60 [==============================] - 0s 1ms/step - loss: 4.2223e-05 - accuracy: 1.0000\n",
      "Epoch 98/200\n",
      "60/60 [==============================] - 0s 1ms/step - loss: 4.1069e-05 - accuracy: 1.0000\n",
      "Epoch 99/200\n",
      "60/60 [==============================] - 0s 980us/step - loss: 4.0068e-05 - accuracy: 1.0000\n",
      "Epoch 100/200\n",
      "60/60 [==============================] - 0s 1ms/step - loss: 3.9055e-05 - accuracy: 1.0000\n",
      "Epoch 101/200\n",
      "60/60 [==============================] - 0s 1ms/step - loss: 3.8075e-05 - accuracy: 1.0000\n",
      "Epoch 102/200\n",
      "60/60 [==============================] - 0s 1ms/step - loss: 3.7111e-05 - accuracy: 1.0000\n",
      "Epoch 103/200\n",
      "60/60 [==============================] - 0s 980us/step - loss: 3.6230e-05 - accuracy: 1.0000\n",
      "Epoch 104/200\n",
      "60/60 [==============================] - 0s 1ms/step - loss: 3.5264e-05 - accuracy: 1.0000\n",
      "Epoch 105/200\n",
      "60/60 [==============================] - 0s 1ms/step - loss: 3.4375e-05 - accuracy: 1.0000\n",
      "Epoch 106/200\n",
      "60/60 [==============================] - 0s 1ms/step - loss: 3.3497e-05 - accuracy: 1.0000\n",
      "Epoch 107/200\n",
      "60/60 [==============================] - 0s 1ms/step - loss: 3.2765e-05 - accuracy: 1.0000\n",
      "Epoch 108/200\n",
      "60/60 [==============================] - 0s 1ms/step - loss: 3.1801e-05 - accuracy: 1.0000\n",
      "Epoch 109/200\n",
      "60/60 [==============================] - 0s 1ms/step - loss: 3.0990e-05 - accuracy: 1.0000\n",
      "Epoch 110/200\n",
      "60/60 [==============================] - 0s 1ms/step - loss: 3.0176e-05 - accuracy: 1.0000\n",
      "Epoch 111/200\n",
      "60/60 [==============================] - 0s 1ms/step - loss: 1.1066e-05 - accuracy: 1.0000\n",
      "Epoch 112/200\n",
      "60/60 [==============================] - 0s 1ms/step - loss: 6.7109e-06 - accuracy: 1.0000\n",
      "Epoch 113/200\n",
      "60/60 [==============================] - 0s 1ms/step - loss: 5.2202e-06 - accuracy: 1.0000\n",
      "Epoch 114/200\n",
      "60/60 [==============================] - 0s 998us/step - loss: 4.4020e-06 - accuracy: 1.0000\n",
      "Epoch 115/200\n",
      "60/60 [==============================] - 0s 980us/step - loss: 3.9023e-06 - accuracy: 1.0000\n",
      "Epoch 116/200\n",
      "60/60 [==============================] - 0s 1ms/step - loss: 3.5575e-06 - accuracy: 1.0000\n",
      "Epoch 117/200\n",
      "60/60 [==============================] - 0s 1ms/step - loss: 3.2778e-06 - accuracy: 1.0000\n",
      "Epoch 118/200\n",
      "60/60 [==============================] - 0s 1ms/step - loss: 3.0612e-06 - accuracy: 1.0000\n",
      "Epoch 119/200\n",
      "60/60 [==============================] - 0s 1ms/step - loss: 2.8784e-06 - accuracy: 1.0000\n",
      "Epoch 120/200\n",
      "60/60 [==============================] - 0s 997us/step - loss: 2.7220e-06 - accuracy: 1.0000\n",
      "Epoch 121/200\n",
      "60/60 [==============================] - 0s 1ms/step - loss: 2.5836e-06 - accuracy: 1.0000\n",
      "Epoch 122/200\n",
      "60/60 [==============================] - 0s 997us/step - loss: 2.4613e-06 - accuracy: 1.0000\n",
      "Epoch 123/200\n",
      "60/60 [==============================] - 0s 1ms/step - loss: 2.3493e-06 - accuracy: 1.0000\n",
      "Epoch 124/200\n",
      "60/60 [==============================] - 0s 1ms/step - loss: 2.2495e-06 - accuracy: 1.0000\n",
      "Epoch 125/200\n",
      "60/60 [==============================] - 0s 1ms/step - loss: 2.1556e-06 - accuracy: 1.0000\n",
      "Epoch 126/200\n",
      "60/60 [==============================] - 0s 1ms/step - loss: 2.0687e-06 - accuracy: 1.0000\n",
      "Epoch 127/200\n",
      "60/60 [==============================] - 0s 1ms/step - loss: 1.9878e-06 - accuracy: 1.0000\n",
      "Epoch 128/200\n",
      "60/60 [==============================] - 0s 1ms/step - loss: 1.9125e-06 - accuracy: 1.0000\n",
      "Epoch 129/200\n",
      "60/60 [==============================] - 0s 1ms/step - loss: 1.8408e-06 - accuracy: 1.0000\n",
      "Epoch 130/200\n",
      "60/60 [==============================] - 0s 1ms/step - loss: 1.7741e-06 - accuracy: 1.0000\n",
      "Epoch 131/200\n",
      "60/60 [==============================] - 0s 1ms/step - loss: 1.7089e-06 - accuracy: 1.0000\n",
      "Epoch 132/200\n",
      "60/60 [==============================] - 0s 1ms/step - loss: 1.6480e-06 - accuracy: 1.0000\n",
      "Epoch 133/200\n",
      "60/60 [==============================] - 0s 947us/step - loss: 1.5894e-06 - accuracy: 1.0000\n",
      "Epoch 134/200\n",
      "60/60 [==============================] - 0s 1ms/step - loss: 1.5338e-06 - accuracy: 1.0000\n",
      "Epoch 135/200\n",
      "60/60 [==============================] - 0s 1ms/step - loss: 1.4807e-06 - accuracy: 1.0000\n",
      "Epoch 136/200\n",
      "60/60 [==============================] - 0s 1ms/step - loss: 1.4298e-06 - accuracy: 1.0000\n",
      "Epoch 137/200\n",
      "60/60 [==============================] - 0s 1ms/step - loss: 1.3808e-06 - accuracy: 1.0000\n",
      "Epoch 138/200\n",
      "60/60 [==============================] - 0s 1ms/step - loss: 1.3341e-06 - accuracy: 1.0000\n",
      "Epoch 139/200\n",
      "60/60 [==============================] - 0s 1ms/step - loss: 1.2895e-06 - accuracy: 1.0000\n",
      "Epoch 140/200\n",
      "60/60 [==============================] - 0s 1ms/step - loss: 1.2461e-06 - accuracy: 1.0000\n",
      "Epoch 141/200\n",
      "60/60 [==============================] - 0s 1ms/step - loss: 1.2043e-06 - accuracy: 1.0000\n",
      "Epoch 142/200\n",
      "60/60 [==============================] - 0s 1ms/step - loss: 1.1644e-06 - accuracy: 1.0000\n",
      "Epoch 143/200\n",
      "60/60 [==============================] - 0s 1ms/step - loss: 1.1255e-06 - accuracy: 1.0000\n",
      "Epoch 144/200\n",
      "60/60 [==============================] - 0s 1ms/step - loss: 1.0896e-06 - accuracy: 1.0000\n",
      "Epoch 145/200\n",
      "60/60 [==============================] - 0s 1ms/step - loss: 1.0527e-06 - accuracy: 1.0000\n",
      "Epoch 146/200\n",
      "60/60 [==============================] - 0s 1ms/step - loss: 1.0178e-06 - accuracy: 1.0000\n",
      "Epoch 147/200\n",
      "60/60 [==============================] - 0s 1ms/step - loss: 9.8446e-07 - accuracy: 1.0000\n",
      "Epoch 148/200\n",
      "60/60 [==============================] - 0s 1ms/step - loss: 9.5101e-07 - accuracy: 1.0000\n",
      "Epoch 149/200\n",
      "60/60 [==============================] - 0s 1ms/step - loss: 9.2019e-07 - accuracy: 1.0000\n",
      "Epoch 150/200\n",
      "60/60 [==============================] - 0s 1ms/step - loss: 8.9006e-07 - accuracy: 1.0000\n",
      "Epoch 151/200\n",
      "60/60 [==============================] - 0s 1ms/step - loss: 8.6124e-07 - accuracy: 1.0000\n",
      "Epoch 152/200\n",
      "60/60 [==============================] - 0s 1ms/step - loss: 8.3317e-07 - accuracy: 1.0000\n",
      "Epoch 153/200\n",
      "60/60 [==============================] - 0s 1ms/step - loss: 8.0754e-07 - accuracy: 1.0000\n",
      "Epoch 154/200\n",
      "60/60 [==============================] - 0s 1ms/step - loss: 7.8019e-07 - accuracy: 1.0000\n",
      "Epoch 155/200\n",
      "60/60 [==============================] - 0s 1ms/step - loss: 7.5490e-07 - accuracy: 1.0000\n",
      "Epoch 156/200\n",
      "60/60 [==============================] - 0s 997us/step - loss: 7.3038e-07 - accuracy: 1.0000\n",
      "Epoch 157/200\n",
      "60/60 [==============================] - 0s 1ms/step - loss: 7.0682e-07 - accuracy: 1.0000\n",
      "Epoch 158/200\n",
      "60/60 [==============================] - 0s 1ms/step - loss: 6.8398e-07 - accuracy: 1.0000\n",
      "Epoch 159/200\n",
      "60/60 [==============================] - 0s 1ms/step - loss: 6.6165e-07 - accuracy: 1.0000\n",
      "Epoch 160/200\n",
      "60/60 [==============================] - 0s 1ms/step - loss: 6.4046e-07 - accuracy: 1.0000\n",
      "Epoch 161/200\n",
      "60/60 [==============================] - 0s 980us/step - loss: 6.1965e-07 - accuracy: 1.0000\n",
      "Epoch 162/200\n",
      "60/60 [==============================] - 0s 1ms/step - loss: 6.0006e-07 - accuracy: 1.0000\n",
      "Epoch 163/200\n",
      "60/60 [==============================] - ETA: 0s - loss: 5.4729e-07 - accuracy: 1.00 - 0s 1ms/step - loss: 5.8027e-07 - accuracy: 1.0000\n",
      "Epoch 164/200\n",
      "60/60 [==============================] - 0s 964us/step - loss: 5.6161e-07 - accuracy: 1.0000\n",
      "Epoch 165/200\n",
      "60/60 [==============================] - 0s 1ms/step - loss: 5.4348e-07 - accuracy: 1.0000\n",
      "Epoch 166/200\n",
      "60/60 [==============================] - 0s 1ms/step - loss: 5.2609e-07 - accuracy: 1.0000\n",
      "Epoch 167/200\n",
      "60/60 [==============================] - 0s 1ms/step - loss: 5.0910e-07 - accuracy: 1.0000\n",
      "Epoch 168/200\n",
      "60/60 [==============================] - 0s 1ms/step - loss: 4.9255e-07 - accuracy: 1.0000\n",
      "Epoch 169/200\n",
      "60/60 [==============================] - 0s 1ms/step - loss: 4.7705e-07 - accuracy: 1.0000\n",
      "Epoch 170/200\n",
      "60/60 [==============================] - 0s 1ms/step - loss: 4.6159e-07 - accuracy: 1.0000\n",
      "Epoch 171/200\n",
      "60/60 [==============================] - 0s 980us/step - loss: 4.4659e-07 - accuracy: 1.0000\n",
      "Epoch 172/200\n",
      "60/60 [==============================] - 0s 980us/step - loss: 4.3240e-07 - accuracy: 1.0000\n",
      "Epoch 173/200\n",
      "60/60 [==============================] - 0s 1ms/step - loss: 4.1866e-07 - accuracy: 1.0000\n",
      "Epoch 174/200\n",
      "60/60 [==============================] - 0s 1ms/step - loss: 4.0497e-07 - accuracy: 1.0000\n",
      "Epoch 175/200\n",
      "60/60 [==============================] - 0s 1ms/step - loss: 3.9205e-07 - accuracy: 1.0000\n",
      "Epoch 176/200\n",
      "60/60 [==============================] - 0s 1ms/step - loss: 3.7944e-07 - accuracy: 1.0000\n",
      "Epoch 177/200\n",
      "60/60 [==============================] - 0s 1ms/step - loss: 3.6725e-07 - accuracy: 1.0000\n",
      "Epoch 178/200\n",
      "60/60 [==============================] - 0s 1ms/step - loss: 3.5540e-07 - accuracy: 1.0000\n",
      "Epoch 179/200\n",
      "60/60 [==============================] - 0s 980us/step - loss: 3.4396e-07 - accuracy: 1.0000\n",
      "Epoch 180/200\n",
      "60/60 [==============================] - 0s 1ms/step - loss: 3.3321e-07 - accuracy: 1.0000\n",
      "Epoch 181/200\n",
      "60/60 [==============================] - 0s 1ms/step - loss: 3.2222e-07 - accuracy: 1.0000\n",
      "Epoch 182/200\n",
      "60/60 [==============================] - 0s 1ms/step - loss: 3.1187e-07 - accuracy: 1.0000\n",
      "Epoch 183/200\n",
      "60/60 [==============================] - 0s 980us/step - loss: 3.0195e-07 - accuracy: 1.0000\n",
      "Epoch 184/200\n",
      "60/60 [==============================] - 0s 947us/step - loss: 2.9219e-07 - accuracy: 1.0000\n",
      "Epoch 185/200\n",
      "60/60 [==============================] - 0s 1ms/step - loss: 2.8278e-07 - accuracy: 1.0000\n",
      "Epoch 186/200\n",
      "60/60 [==============================] - 0s 980us/step - loss: 2.7379e-07 - accuracy: 1.0000\n",
      "Epoch 187/200\n",
      "60/60 [==============================] - 0s 964us/step - loss: 2.6503e-07 - accuracy: 1.0000\n",
      "Epoch 188/200\n",
      "60/60 [==============================] - 0s 947us/step - loss: 2.5648e-07 - accuracy: 1.0000\n",
      "Epoch 189/200\n",
      "60/60 [==============================] - 0s 980us/step - loss: 2.4824e-07 - accuracy: 1.0000\n",
      "Epoch 190/200\n",
      "60/60 [==============================] - 0s 980us/step - loss: 2.4023e-07 - accuracy: 1.0000\n",
      "Epoch 191/200\n",
      "60/60 [==============================] - 0s 964us/step - loss: 2.3259e-07 - accuracy: 1.0000\n",
      "Epoch 192/200\n",
      "60/60 [==============================] - 0s 1ms/step - loss: 2.2548e-07 - accuracy: 1.0000\n",
      "Epoch 193/200\n",
      "60/60 [==============================] - 0s 1ms/step - loss: 2.1779e-07 - accuracy: 1.0000\n",
      "Epoch 194/200\n",
      "60/60 [==============================] - 0s 1ms/step - loss: 2.1084e-07 - accuracy: 1.0000\n",
      "Epoch 195/200\n",
      "60/60 [==============================] - 0s 947us/step - loss: 2.0401e-07 - accuracy: 1.0000\n",
      "Epoch 196/200\n",
      "60/60 [==============================] - 0s 1ms/step - loss: 1.9749e-07 - accuracy: 1.0000\n",
      "Epoch 197/200\n",
      "60/60 [==============================] - 0s 1ms/step - loss: 1.9121e-07 - accuracy: 1.0000\n",
      "Epoch 198/200\n",
      "60/60 [==============================] - 0s 1ms/step - loss: 1.8508e-07 - accuracy: 1.0000\n",
      "Epoch 199/200\n",
      "60/60 [==============================] - 0s 1ms/step - loss: 1.7912e-07 - accuracy: 1.0000\n",
      "Epoch 200/200\n",
      "60/60 [==============================] - 0s 1ms/step - loss: 1.7345e-07 - accuracy: 1.0000\n"
     ]
    }
   ],
   "source": [
    "history = model.fit(X_train, y_train, epochs=200, batch_size=64, verbose=1)"
   ]
  },
  {
   "cell_type": "code",
   "execution_count": 14,
   "metadata": {},
   "outputs": [],
   "source": [
    "y_pred = model.predict(X_test)\n",
    "#Converting predictions to label\n",
    "pred = list()\n",
    "for i in range(len(y_pred)):\n",
    "    pred.append(np.argmax(y_pred[i]))\n",
    "#Converting one hot encoded test label to label\n",
    "test = list()\n",
    "for i in range(len(y_test)):\n",
    "    test.append(np.argmax(y_test[i]))"
   ]
  },
  {
   "cell_type": "code",
   "execution_count": 15,
   "metadata": {},
   "outputs": [
    {
     "name": "stdout",
     "output_type": "stream",
     "text": [
      "Accuracy is: 100.0\n"
     ]
    }
   ],
   "source": [
    "from sklearn.metrics import accuracy_score\n",
    "a = accuracy_score(pred,test)\n",
    "print('Accuracy is:', a*100)"
   ]
  },
  {
   "cell_type": "code",
   "execution_count": 16,
   "metadata": {},
   "outputs": [
    {
     "data": {
      "image/png": "[encoded data removed]",
      "text/plain": [
       "<Figure size 432x288 with 1 Axes>"
      ]
     },
     "metadata": {
      "needs_background": "light"
     },
     "output_type": "display_data"
    },
    {
     "data": {
      "image/png": "[encoded data removed]",
      "text/plain": [
       "<Figure size 432x288 with 1 Axes>"
      ]
     },
     "metadata": {
      "needs_background": "light"
     },
     "output_type": "display_data"
    }
   ],
   "source": [
    "acc = history.history['accuracy']\n",
    "loss = history.history['loss']\n",
    "epochs = range(len(acc))\n",
    "plt.plot(epochs, acc, 'b', label='Training accuracy')\n",
    "plt.title('Training accuracy')\n",
    "plt.figure()\n",
    "plt.plot(epochs, loss, 'b', label='Training Loss')\n",
    "plt.title('Training loss')\n",
    "plt.legend()\n",
    "plt.show()"
   ]
  },
  {
   "cell_type": "markdown",
   "metadata": {},
   "source": [
    "# Task 2\n",
    "\n",
    "Test the model on the test set and report Precision, Recall, F1-Score, and Accuracy."
   ]
  },
  {
   "cell_type": "code",
   "execution_count": 17,
   "metadata": {},
   "outputs": [
    {
     "name": "stdout",
     "output_type": "stream",
     "text": [
      "[[675]]\n",
      "              precision    recall  f1-score   support\n",
      "\n",
      "           0       1.00      1.00      1.00       675\n",
      "\n",
      "    accuracy                           1.00       675\n",
      "   macro avg       1.00      1.00      1.00       675\n",
      "weighted avg       1.00      1.00      1.00       675\n",
      "\n"
     ]
    }
   ],
   "source": [
    "# START YOUR CODE HERE\n",
    "print(confusion_matrix(test,pred))\n",
    "print(classification_report(test,pred))\n"
   ]
  },
  {
   "cell_type": "code",
   "execution_count": 18,
   "metadata": {},
   "outputs": [
    {
     "name": "stdout",
     "output_type": "stream",
     "text": [
      "Accuracy: 1.0\n",
      "Recall: 1.0\n",
      "F1 Score: 1.0\n",
      "Mean Absolute Error: 0.0\n"
     ]
    }
   ],
   "source": [
    "# Model Accuracy: how often is the classifier correct?\n",
    "print(\"Accuracy:\",metrics.accuracy_score(test, pred))\n",
    "\n",
    "# Model Recall: what percentage of positive tuples are labelled as such?\n",
    "print(\"Recall:\",metrics.recall_score(test, pred, average='weighted', labels=np.unique(pred)))\n",
    "\n",
    "#Calculate F1 Score\n",
    "print(\"F1 Score:\",metrics.f1_score(test, pred, average='weighted', labels=np.unique(pred)))\n",
    "\n",
    "#Calculate Mean Absolute Error\n",
    "print(\"Mean Absolute Error:\",metrics.mean_absolute_error(test, pred))\n"
   ]
  },
  {
   "cell_type": "markdown",
   "metadata": {},
   "source": [
    "# Congratulations!\n",
    "\n",
    "You've come to the end of this assignment, and you have built your first neural network. \n",
    "\n",
    "Congratulations on finishing this notebook! \n",
    "\n"
   ]
  }
 ],
 "metadata": {
  "coursera": {
   "course_slug": "nlp-sequence-models",
   "graded_item_id": "8hb5s",
   "launcher_item_id": "5NrJ6"
  },
  "kernelspec": {
   "display_name": "Python 3",
   "language": "python",
   "name": "python3"
  },
  "language_info": {
   "codemirror_mode": {
    "name": "ipython",
    "version": 3
   },
   "file_extension": ".py",
   "mimetype": "text/x-python",
   "name": "python",
   "nbconvert_exporter": "python",
   "pygments_lexer": "ipython3",
   "version": "3.8.8"
  },
  "latex_envs": {
   "LaTeX_envs_menu_present": true,
   "autoclose": false,
   "autocomplete": true,
   "bibliofile": "biblio.bib",
   "cite_by": "apalike",
   "current_citInitial": 1,
   "eqLabelWithNumbers": true,
   "eqNumInitial": 1,
   "hotkeys": {
    "equation": "Ctrl-E",
    "itemize": "Ctrl-I"
   },
   "labels_anchors": false,
   "latex_user_defs": false,
   "report_style_numbering": false,
   "user_envs_cfg": false
  },
  "toc": {
   "base_numbering": 1,
   "nav_menu": {},
   "number_sections": true,
   "sideBar": true,
   "skip_h1_title": false,
   "title_cell": "Table of Contents",
   "title_sidebar": "Contents",
   "toc_cell": false,
   "toc_position": {},
   "toc_section_display": true,
   "toc_window_display": false
  }
 },
 "nbformat": 4,
 "nbformat_minor": 2
}
